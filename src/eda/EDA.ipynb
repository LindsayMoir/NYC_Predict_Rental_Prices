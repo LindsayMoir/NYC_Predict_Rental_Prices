{
 "cells": [
  {
   "cell_type": "markdown",
   "id": "9ca80032",
   "metadata": {},
   "source": [
    "# EDA"
   ]
  },
  {
   "cell_type": "markdown",
   "id": "22639e83",
   "metadata": {},
   "source": [
    "## Import Libraries"
   ]
  },
  {
   "cell_type": "code",
   "execution_count": 1,
   "id": "1cb8f5a3-fd74-4902-9ef0-21f36311f048",
   "metadata": {},
   "outputs": [],
   "source": [
    "import os\n",
    "import pandas as pd\n",
    "from ydata_profiling import ProfileReport\n",
    "import wandb\n",
    "import warnings"
   ]
  },
  {
   "cell_type": "markdown",
   "id": "76348033",
   "metadata": {},
   "source": [
    "## Initalize Wandb"
   ]
  },
  {
   "cell_type": "code",
   "execution_count": 2,
   "id": "3daa2712",
   "metadata": {},
   "outputs": [
    {
     "name": "stdout",
     "output_type": "stream",
     "text": [
      "Running notebook: EDA.ipynb\n"
     ]
    }
   ],
   "source": [
    "# Check if WANDB_NOTEBOOK_NAME is set\n",
    "notebook_name = os.getenv(\"WANDB_NOTEBOOK_NAME\", \"EDA.ipynb\")\n",
    "print(f\"Running notebook: {notebook_name}\")"
   ]
  },
  {
   "cell_type": "code",
   "execution_count": null,
   "id": "1bd4108a",
   "metadata": {},
   "outputs": [],
   "source": [
    "# Initialize a new W&B run\n",
    "run = wandb.init(project=\"nyc_airbnb\", group=\"eda\", save_code=True)"
   ]
  },
  {
   "cell_type": "code",
   "execution_count": null,
   "id": "dbb6c656-c445-4199-b872-2a594dc80d7c",
   "metadata": {},
   "outputs": [],
   "source": [
    "# Load data\n",
    "local_path = wandb.use_artifact(\"sample.csv:latest\").file()\n",
    "df = pd.read_csv(local_path)\n",
    "\n",
    "# Profile data\n",
    "print(df.shape)\n",
    "df.head()"
   ]
  },
  {
   "cell_type": "markdown",
   "id": "4579f231",
   "metadata": {},
   "source": [
    "## Generate Profile Report"
   ]
  },
  {
   "cell_type": "code",
   "execution_count": null,
   "id": "4feb3061",
   "metadata": {},
   "outputs": [],
   "source": [
    "# Generate profile report and write to persistent storage\n",
    "warnings.filterwarnings(\"ignore\")\n",
    "profile = ProfileReport(df, title=\"Pandas Profiling Report\", explorative=True)\n",
    "profile.to_file(\"ydata_report.html\")\n",
    "warnings.filterwarnings(\"ignore\")"
   ]
  },
  {
   "cell_type": "code",
   "execution_count": null,
   "id": "53bce984",
   "metadata": {},
   "outputs": [],
   "source": [
    "warnings.filterwarnings(\"default\")"
   ]
  },
  {
   "cell_type": "markdown",
   "id": "68c71bbd",
   "metadata": {},
   "source": [
    "## Data Cleaning\n",
    "- name - only 7 values missing. Lets just drop those rows.\n",
    "- host_name - only 8 missting values. My guess is that when we drop the name rows, this one will drop also. Lets just drop both of them. This is a trivial number of rows.\n",
    "- price - drop outliers outside of 10 and 350 for price.\n",
    "- last_review - change to date format."
   ]
  },
  {
   "cell_type": "code",
   "execution_count": null,
   "id": "6eb75925",
   "metadata": {},
   "outputs": [],
   "source": [
    "df.describe()"
   ]
  },
  {
   "cell_type": "code",
   "execution_count": null,
   "id": "652a01b4",
   "metadata": {},
   "outputs": [],
   "source": [
    "df.info()"
   ]
  },
  {
   "cell_type": "code",
   "execution_count": null,
   "id": "90a5ab46",
   "metadata": {},
   "outputs": [],
   "source": [
    "# Drop outliers\n",
    "print(df.shape)\n",
    "min_price = 10\n",
    "max_price = 350\n",
    "idx = df['price'].between(min_price, max_price)\n",
    "df = df[idx].copy()\n",
    "print(df.shape)"
   ]
  },
  {
   "cell_type": "code",
   "execution_count": null,
   "id": "1e25ca05",
   "metadata": {},
   "outputs": [],
   "source": [
    "# Convert last_review to datetime\n",
    "df['last_review'] = pd.to_datetime(df['last_review'])\n",
    "df.info()"
   ]
  },
  {
   "cell_type": "code",
   "execution_count": null,
   "id": "252e4f6f",
   "metadata": {},
   "outputs": [],
   "source": [
    "print(df.shape)\n",
    "df.dropna(subset=['name', 'host_name'], inplace=True)\n",
    "df.shape"
   ]
  },
  {
   "cell_type": "markdown",
   "id": "48bdc6ba",
   "metadata": {},
   "source": [
    "## Finish Run"
   ]
  },
  {
   "cell_type": "code",
   "execution_count": null,
   "id": "84e89573",
   "metadata": {},
   "outputs": [],
   "source": [
    "# Save the updated sample file to wandb\n",
    "\n",
    "# Save the DataFrame to a CSV file\n",
    "df.to_csv(\"sample_cleaned.csv\", index=False)\n",
    "\n",
    "# Create a wandb Artifact\n",
    "artifact = wandb.Artifact('sample_cleaned', type='dataset')\n",
    "\n",
    "# Add the CSV file to the artifact\n",
    "artifact.add_file('sample_cleaned.csv')\n",
    "\n",
    "# Log the artifact to wandb\n",
    "run.log_artifact(artifact)"
   ]
  },
  {
   "cell_type": "code",
   "execution_count": null,
   "id": "985978bc",
   "metadata": {},
   "outputs": [],
   "source": [
    "# Path to the notebook you want to save\n",
    "notebook_path = \"EDA.ipynb\"\n",
    "\n",
    "# Create an artifact\n",
    "artifact = wandb.Artifact(name=\"EDA.ipynb\", type=\"notebook\")\n",
    "artifact.add_file(notebook_path)\n",
    "\n",
    "# Log the artifact to W&B\n",
    "run.log_artifact(artifact)"
   ]
  },
  {
   "cell_type": "code",
   "execution_count": null,
   "id": "d6b58834",
   "metadata": {},
   "outputs": [],
   "source": [
    "# This will cause the notebook to be flushed to wandb and save the profile report\n",
    "run.save('ydata_report.html')\n",
    "wandb.finish()"
   ]
  },
  {
   "cell_type": "code",
   "execution_count": null,
   "id": "71b6c3ba",
   "metadata": {},
   "outputs": [],
   "source": []
  }
 ],
 "metadata": {
  "kernelspec": {
   "display_name": "Python 3 (ipykernel)",
   "language": "python",
   "name": "python3"
  },
  "language_info": {
   "codemirror_mode": {
    "name": "ipython",
    "version": 3
   },
   "file_extension": ".py",
   "mimetype": "text/x-python",
   "name": "python",
   "nbconvert_exporter": "python",
   "pygments_lexer": "ipython3",
   "version": "3.10.14"
  },
  "toc": {
   "base_numbering": 1,
   "nav_menu": {},
   "number_sections": true,
   "sideBar": true,
   "skip_h1_title": false,
   "title_cell": "Table of Contents",
   "title_sidebar": "Contents",
   "toc_cell": false,
   "toc_position": {
    "height": "calc(100% - 180px)",
    "left": "10px",
    "top": "150px",
    "width": "240.952px"
   },
   "toc_section_display": true,
   "toc_window_display": false
  }
 },
 "nbformat": 4,
 "nbformat_minor": 5
}
